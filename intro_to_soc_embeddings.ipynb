{
 "cells": [
  {
   "cell_type": "markdown",
   "metadata": {
    "id": "8jo44k_Gxx6k"
   },
   "source": [
    "# An intro to Self-Organizing Class Embeddings\n",
    "\n",
    "**Author:** Raphael Pisoni<br>\n",
    "**Date created:** 2023/10/12<br>\n",
    "**Last modified:** 2023/10/17<br>\n",
    "**Description:** Image classification with self-organizing class embeddings. Competitive results with other losses."
   ]
  },
  {
   "cell_type": "markdown",
   "metadata": {},
   "source": [
    "## Find more information about SOC-Embeddings in the original blog-post: [https://www.rpisoni.dev/posts/self-organizing-class-embeddings/](https://www.rpisoni.dev/posts/self-organizing-class-embeddings/)"
   ]
  },
  {
   "cell_type": "markdown",
   "metadata": {
    "id": "4C_AjIQtxx6r"
   },
   "source": [
    "## Setup"
   ]
  },
  {
   "cell_type": "code",
   "execution_count": 1,
   "metadata": {
    "id": "o1adAd2VIKAT"
   },
   "outputs": [],
   "source": [
    "# !pip install -q tensorflow~=2.12.0\n",
    "# !pip install -q -U keras_cv==0.5.0"
   ]
  },
  {
   "cell_type": "code",
   "execution_count": 2,
   "metadata": {
    "colab": {
     "base_uri": "https://localhost:8080/"
    },
    "id": "FTZ4Tt1XIKAU",
    "outputId": "d6a5e834-9fba-41a8-a795-71920dacb293"
   },
   "outputs": [
    {
     "name": "stdout",
     "output_type": "stream",
     "text": [
      "env: TF_CPP_MIN_LOG_LEVEL=3\n",
      "env: TPU_NAME=local\n"
     ]
    }
   ],
   "source": [
    "%env TF_CPP_MIN_LOG_LEVEL=3"
   ]
  },
  {
   "cell_type": "code",
   "execution_count": 3,
   "metadata": {
    "id": "nyoneyxFxx6s"
   },
   "outputs": [
    {
     "name": "stdout",
     "output_type": "stream",
     "text": [
      "TPU not found.\n",
      "Using GPU devices: 1\n"
     ]
    }
   ],
   "source": [
    "import os\n",
    "import logging\n",
    "\n",
    "import keras_cv\n",
    "import matplotlib.pyplot as plt\n",
    "import numpy as np\n",
    "import tensorflow as tf\n",
    "from tensorflow.keras import layers\n",
    "\n",
    "logging.getLogger(\"tensorflow\").setLevel(logging.ERROR)\n",
    "logging.getLogger(\"matplotlib.font_manager\").setLevel(logging.ERROR)\n",
    "\n",
    "try:\n",
    "    # try to run with colab TPU or TPU-VM\n",
    "    device_name = os.environ.get(\"COLAB_TPU_ADDR\")\n",
    "    if device_name is not None:\n",
    "        TPU_ADDRESS = \"grpc://\" + device_name\n",
    "    else:\n",
    "        TPU_ADDRESS = \"local\"\n",
    "    os.environ[\"TPU_NAME\"] = TPU_ADDRESS\n",
    "    cluster_resolver = tf.distribute.cluster_resolver.TPUClusterResolver()\n",
    "    tf.config.experimental_connect_to_cluster(cluster_resolver)\n",
    "    tf.tpu.experimental.initialize_tpu_system(cluster_resolver)\n",
    "    strategy = tf.distribute.TPUStrategy(cluster_resolver)\n",
    "    print(\"Number of TPU devices:\", strategy.num_replicas_in_sync)\n",
    "except Exception:\n",
    "    print(\"TPU not found.\")\n",
    "    gpus = tf.config.list_physical_devices(\"GPU\")\n",
    "    if gpus:\n",
    "        tf.config.experimental.set_memory_growth(gpus[0], True)\n",
    "        tf.config.experimental.set_visible_devices(gpus[0], \"GPU\")\n",
    "        strategy = tf.distribute.OneDeviceStrategy(device=\"/gpu:0\")\n",
    "        print(\"Using GPU devices:\", strategy.num_replicas_in_sync)\n",
    "    else:\n",
    "        print(\"No GPU found. Running on CPU.\")\n",
    "        strategy = tf.distribute.OneDeviceStrategy(device=\"/cpu:0\")"
   ]
  },
  {
   "cell_type": "markdown",
   "metadata": {
    "id": "lNMCrsbIxx6u"
   },
   "source": [
    "## Hyperparameters"
   ]
  },
  {
   "cell_type": "code",
   "execution_count": 4,
   "metadata": {
    "id": "dYr3lDb0xx6u"
   },
   "outputs": [],
   "source": [
    "DATASET = \"cifar10\"  # \"cats_and_dogs\" \"cifar10\" or \"cifar100\"\n",
    "EMBEDDING_DIMENSIONS = [10, 5, 1]\n",
    "\n",
    "EPOCHS = 30\n",
    "BATCH_SIZE = 128\n",
    "\n",
    "\n",
    "histories = {}"
   ]
  },
  {
   "cell_type": "markdown",
   "metadata": {
    "id": "hJOeFxiRxx6v"
   },
   "source": [
    "## Load the dataset"
   ]
  },
  {
   "cell_type": "code",
   "execution_count": 5,
   "metadata": {
    "colab": {
     "base_uri": "https://localhost:8080/"
    },
    "id": "9PPpL5gUxx6v",
    "outputId": "8f374637-c071-42c2-8f5e-5a9658103f7f"
   },
   "outputs": [],
   "source": [
    "if DATASET in [\"cats_and_dogs\", \"cifar10\"]:\n",
    "    (x_train, y_train), (x_test, y_test) = tf.keras.datasets.cifar10.load_data()\n",
    "elif DATASET == \"cifar100\":\n",
    "    (x_train, y_train), (x_test, y_test) = tf.keras.datasets.cifar100.load_data()\n",
    "else:\n",
    "    raise NotImplementedError\n",
    "\n",
    "x_train = x_train.astype(\"uint8\")\n",
    "x_test = x_test.astype(\"uint8\")\n",
    "\n",
    "N_CLASSES = np.max(y_train) + 1\n",
    "\n",
    "y_train = tf.squeeze(y_train, axis=1)\n",
    "y_test = tf.squeeze(y_test, axis=1)\n",
    "\n",
    "if DATASET == \"cats_and_dogs\":\n",
    "    N_CLASSES = 2\n",
    "    class_names = [\"cats\", \"dogs\"]\n",
    "elif DATASET == \"cifar10\":\n",
    "    class_names = [\n",
    "        \"airplanes\",\n",
    "        \"cars\",\n",
    "        \"birds\",\n",
    "        \"cats\",\n",
    "        \"deer\",\n",
    "        \"dogs\",\n",
    "        \"frogs\",\n",
    "        \"horses\",\n",
    "        \"ships\",\n",
    "        \"trucks\",\n",
    "    ]\n",
    "else:\n",
    "    class_names = None"
   ]
  },
  {
   "cell_type": "markdown",
   "metadata": {
    "id": "R-tAC2-Lxx6w"
   },
   "source": [
    "## Define training and validation sets"
   ]
  },
  {
   "cell_type": "code",
   "execution_count": 6,
   "metadata": {
    "colab": {
     "base_uri": "https://localhost:8080/"
    },
    "id": "57UzseFaxx6x",
    "outputId": "c481fde3-53d4-496c-a89e-91d3feb06c59"
   },
   "outputs": [
    {
     "name": "stdout",
     "output_type": "stream",
     "text": [
      "(50000, 32, 32, 3) (50000,)\n"
     ]
    }
   ],
   "source": [
    "INPUT_SHAPE = x_train.shape[1:]\n",
    "N_SAMPLES = x_train.shape[0]\n",
    "if DATASET == \"cats_and_dogs\":\n",
    "    N_SAMPLES = N_SAMPLES // 5\n",
    "STEPS_PER_EPOCH = N_SAMPLES // BATCH_SIZE\n",
    "print(x_train.shape, y_train.shape)"
   ]
  },
  {
   "cell_type": "code",
   "execution_count": 7,
   "metadata": {
    "colab": {
     "base_uri": "https://localhost:8080/"
    },
    "id": "lEL5tA7t8RiN",
    "outputId": "c87b1205-18db-4075-ebbd-cd3509e658a9"
   },
   "outputs": [
    {
     "name": "stdout",
     "output_type": "stream",
     "text": [
      "DATASET: cifar10\n",
      "INPUT_SHAPE: (32, 32, 3)\n",
      "EMBEDDING_DIMENSIONS: [10, 5, 1]\n",
      "N_CLASSES: 10\n"
     ]
    }
   ],
   "source": [
    "print(\"DATASET:\", DATASET)\n",
    "print(\"INPUT_SHAPE:\", INPUT_SHAPE)\n",
    "print(\"EMBEDDING_DIMENSIONS:\", EMBEDDING_DIMENSIONS)\n",
    "print(\"N_CLASSES:\", N_CLASSES)"
   ]
  },
  {
   "cell_type": "code",
   "execution_count": 8,
   "metadata": {
    "id": "9mLJo3jnWYPs"
   },
   "outputs": [],
   "source": [
    "augmenter = tf.keras.Sequential(\n",
    "    [\n",
    "        keras_cv.layers.RandomFlip(mode=\"horizontal\"),\n",
    "        keras_cv.layers.RandomChoice(\n",
    "            layers=[\n",
    "                keras_cv.layers.preprocessing.RandomlyZoomedCrop(\n",
    "                    height=INPUT_SHAPE[0],\n",
    "                    width=INPUT_SHAPE[1],\n",
    "                    zoom_factor=(0.8, 1.2),\n",
    "                    aspect_ratio_factor=(3.0 / 4.0, 4.0 / 3.0),\n",
    "                    interpolation=\"nearest\",\n",
    "                ),\n",
    "                keras_cv.layers.preprocessing.RandomlyZoomedCrop(\n",
    "                    height=INPUT_SHAPE[0],\n",
    "                    width=INPUT_SHAPE[1],\n",
    "                    zoom_factor=(0.8, 1.2),\n",
    "                    aspect_ratio_factor=(3.0 / 4.0, 4.0 / 3.0),\n",
    "                    interpolation=\"bilinear\",\n",
    "                ),\n",
    "            ]\n",
    "        ),\n",
    "        keras_cv.layers.preprocessing.RandomColorJitter(\n",
    "            value_range=(0, 255),\n",
    "            brightness_factor=(-0.2, 0.2),\n",
    "            contrast_factor=(-0.2, 0.2),\n",
    "            saturation_factor=(0.4, 0.6),\n",
    "            hue_factor=0.2,\n",
    "        ),\n",
    "    ]\n",
    ")\n",
    "\n",
    "\n",
    "def augment_data(images, labels):\n",
    "    outputs = augmenter({\"images\": images, \"labels\": labels})\n",
    "    return tf.cast(outputs[\"images\"], tf.float32), tf.cast(labels, tf.int32)\n",
    "\n",
    "\n",
    "def dont_augmenta_data(images, labels):\n",
    "    return tf.cast(images, tf.float32), tf.cast(labels, tf.int32)\n",
    "\n",
    "\n",
    "train_x = tf.data.Dataset.from_tensor_slices(x_train)\n",
    "val_x = tf.data.Dataset.from_tensor_slices(x_test)\n",
    "\n",
    "train_y = tf.data.Dataset.from_tensor_slices(y_train)\n",
    "val_y = tf.data.Dataset.from_tensor_slices(y_test)\n",
    "\n",
    "train_ds = tf.data.Dataset.zip((train_x, train_y))\n",
    "val_ds = tf.data.Dataset.zip((val_x, val_y))\n",
    "\n",
    "if DATASET == \"cats_and_dogs\":\n",
    "    train_ds = train_ds.filter(lambda x, y: y == 3 or y == 5)\n",
    "    train_ds = train_ds.map(\n",
    "        lambda x, y: (x, int(y == 5)), num_parallel_calls=tf.data.AUTOTUNE\n",
    "    )\n",
    "    val_ds = val_ds.filter(lambda x, y: y == 3 or y == 5)\n",
    "    val_ds = val_ds.map(\n",
    "        lambda x, y: (x, int(y == 5)), num_parallel_calls=tf.data.AUTOTUNE\n",
    "    )\n",
    "\n",
    "\n",
    "train_ds = (\n",
    "    train_ds.cache()\n",
    "    .repeat()\n",
    "    .shuffle(buffer_size=1000, seed=0, reshuffle_each_iteration=True)\n",
    "    .map(augment_data, num_parallel_calls=tf.data.AUTOTUNE)\n",
    "    .batch(BATCH_SIZE)\n",
    "    .prefetch(tf.data.AUTOTUNE)\n",
    ")\n",
    "val_ds = (\n",
    "    val_ds.map(dont_augmenta_data, num_parallel_calls=tf.data.AUTOTUNE)\n",
    "    .batch(BATCH_SIZE)\n",
    "    .cache()\n",
    ")"
   ]
  },
  {
   "cell_type": "markdown",
   "metadata": {},
   "source": [
    "# Show training images"
   ]
  },
  {
   "cell_type": "code",
   "execution_count": 9,
   "metadata": {
    "colab": {
     "base_uri": "https://localhost:8080/",
     "height": 1000
    },
    "id": "1mv6FpOcjWGe",
    "outputId": "af457fbf-7b08-4bf5-9920-4cf0626b7a05",
    "tags": []
   },
   "outputs": [
    {
     "data": {
      "image/png": "[encoded data removed]",
      "text/plain": [
       "<Figure size 640x480 with 1 Axes>"
      ]
     },
     "metadata": {},
     "output_type": "display_data"
    },
    {
     "name": "stdout",
     "output_type": "stream",
     "text": [
      "dogs\n",
      "\n"
     ]
    },
    {
     "data": {
      "image/png": "[encoded data removed]",
      "text/plain": [
       "<Figure size 640x480 with 1 Axes>"
      ]
     },
     "metadata": {},
     "output_type": "display_data"
    },
    {
     "name": "stdout",
     "output_type": "stream",
     "text": [
      "trucks\n",
      "\n"
     ]
    },
    {
     "data": {
      "image/png": "[encoded data removed]",
      "text/plain": [
       "<Figure size 640x480 with 1 Axes>"
      ]
     },
     "metadata": {},
     "output_type": "display_data"
    },
    {
     "name": "stdout",
     "output_type": "stream",
     "text": [
      "airplanes\n",
      "\n"
     ]
    }
   ],
   "source": [
    "sx, sy = next(iter(train_ds.take(1)))\n",
    "\n",
    "for i in range(sx.shape[0]):\n",
    "    if i == 3:\n",
    "        break\n",
    "    plt.imshow(sx[i].numpy().astype(np.uint8), aspect=\"equal\")\n",
    "    plt.axis(\"off\")\n",
    "    plt.tight_layout()\n",
    "    plt.show()\n",
    "    if class_names is not None:\n",
    "        print(class_names[sy[i]])\n",
    "    print()"
   ]
  },
  {
   "cell_type": "markdown",
   "metadata": {},
   "source": [
    "# Show validation images"
   ]
  },
  {
   "cell_type": "code",
   "execution_count": 10,
   "metadata": {
    "colab": {
     "base_uri": "https://localhost:8080/",
     "height": 1000
    },
    "id": "pPMn0ALjIKAX",
    "outputId": "148e9764-db5d-4e52-80f7-5e9b434919ea",
    "tags": []
   },
   "outputs": [
    {
     "data": {
      "image/png": "[encoded data removed]",
      "text/plain": [
       "<Figure size 640x480 with 1 Axes>"
      ]
     },
     "metadata": {},
     "output_type": "display_data"
    },
    {
     "name": "stdout",
     "output_type": "stream",
     "text": [
      "cats\n",
      "0.0 255.0\n"
     ]
    },
    {
     "data": {
      "image/png": "[encoded data removed]",
      "text/plain": [
       "<Figure size 640x480 with 1 Axes>"
      ]
     },
     "metadata": {},
     "output_type": "display_data"
    },
    {
     "name": "stdout",
     "output_type": "stream",
     "text": [
      "ships\n",
      "0.0 255.0\n"
     ]
    },
    {
     "data": {
      "image/png": "[encoded data removed]",
      "text/plain": [
       "<Figure size 640x480 with 1 Axes>"
      ]
     },
     "metadata": {},
     "output_type": "display_data"
    },
    {
     "name": "stdout",
     "output_type": "stream",
     "text": [
      "ships\n",
      "0.0 255.0\n"
     ]
    }
   ],
   "source": [
    "sx, sy = next(iter(val_ds.take(1)))\n",
    "\n",
    "for i in range(sx.shape[0]):\n",
    "    if i == 3:\n",
    "        break\n",
    "    plt.imshow(sx[i].numpy().astype(np.uint8), aspect=\"equal\")\n",
    "    plt.axis(\"off\")\n",
    "    plt.tight_layout()\n",
    "    plt.show()\n",
    "    if class_names is not None:\n",
    "        print(class_names[sy[i]])\n",
    "    print(sx.numpy().min(), sx.numpy().max())"
   ]
  },
  {
   "cell_type": "markdown",
   "metadata": {
    "id": "e5-XTCJtxx63"
   },
   "source": [
    "# Define the model"
   ]
  },
  {
   "cell_type": "code",
   "execution_count": 11,
   "metadata": {
    "id": "kAXVF-8pxx64"
   },
   "outputs": [],
   "source": [
    "class SOCModel(tf.keras.Model):\n",
    "    def __init__(\n",
    "        self,\n",
    "        image_encoder,\n",
    "        class_encoder,\n",
    "        n_classes,\n",
    "        embedding_dims,\n",
    "        learn_scale=False,\n",
    "        label_smoothing=0.1,\n",
    "        *args,\n",
    "        **kwargs\n",
    "    ):\n",
    "        super().__init__(*args, **kwargs)\n",
    "        self.image_encoder = image_encoder\n",
    "        self.class_encoder = class_encoder\n",
    "        self.loss_tracker = tf.keras.metrics.Mean(name=\"loss\")\n",
    "        self.accuracy_tracker = tf.keras.metrics.Mean(name=\"acc\")\n",
    "        self.dummy_classes = tf.range(n_classes, dtype=tf.int32)\n",
    "        self.n_classes = n_classes\n",
    "        self.embedding_dims = embedding_dims\n",
    "        self.learn_scale = learn_scale\n",
    "        self.label_smoothing = label_smoothing\n",
    "        self.unnormalized_log_probs = False\n",
    "\n",
    "    @property\n",
    "    def metrics(self):\n",
    "        return [self.loss_tracker, self.accuracy_tracker]\n",
    "\n",
    "    @staticmethod\n",
    "    def _log_prob(mu, scale_diag, x, unnormalized):\n",
    "        log_unnormalized = -0.5 * tf.math.squared_difference(\n",
    "            x / scale_diag, mu / scale_diag\n",
    "        )\n",
    "        if unnormalized:\n",
    "            return tf.reduce_sum(log_unnormalized)\n",
    "        log_normalization = tf.constant(\n",
    "            0.5 * np.log(2.0 * np.pi), dtype=mu.dtype\n",
    "        ) + tf.math.log(scale_diag)\n",
    "        return tf.reduce_sum(log_unnormalized - log_normalization)\n",
    "\n",
    "    def log_prob(self, mu, scale_diag, x, unnormalized=False):\n",
    "        batch_log_prob = tf.vectorized_map(\n",
    "            lambda _x: tf.vectorized_map(\n",
    "                lambda _params: self._log_prob(\n",
    "                    _params[0], _params[1], _x, unnormalized=unnormalized\n",
    "                ),\n",
    "                (mu, scale_diag),\n",
    "            ),\n",
    "            x,\n",
    "        )\n",
    "        return batch_log_prob\n",
    "\n",
    "    def loss_fn(self, y_true, img_log_probs, label_smoothing=0.0):\n",
    "        loss = tf.reduce_mean(\n",
    "            tf.keras.losses.categorical_crossentropy(\n",
    "                y_true=tf.one_hot(y_true, self.n_classes),\n",
    "                y_pred=img_log_probs,\n",
    "                from_logits=True,\n",
    "                label_smoothing=label_smoothing,\n",
    "                axis=1,\n",
    "            )\n",
    "        )\n",
    "        return loss\n",
    "\n",
    "    def accuracy(self, y_true, img_means, log_probs):\n",
    "        pred_inds = tf.argmax(log_probs, axis=1, output_type=tf.int32)\n",
    "        batch_acc = tf.reduce_mean(\n",
    "            tf.cast(tf.equal(tf.cast(y_true, tf.int32), pred_inds), tf.float32)\n",
    "        )\n",
    "        return batch_acc\n",
    "\n",
    "    def train_step(self, data):\n",
    "        images, y_true = data\n",
    "        training = True\n",
    "\n",
    "        with tf.GradientTape() as tape:\n",
    "            img_embs = self.image_encoder(images, training=training)\n",
    "\n",
    "            class_embs = self.class_encoder(self.dummy_classes, training=training)\n",
    "\n",
    "            if self.learn_scale:\n",
    "                class_mu, class_scale_diag = (\n",
    "                    class_embs[:, : self.embedding_dims],\n",
    "                    class_embs[:, self.embedding_dims :],\n",
    "                )\n",
    "            else:\n",
    "                class_mu = class_embs\n",
    "                class_scale_diag = tf.ones_like(class_mu)\n",
    "\n",
    "            img_log_probs = self.log_prob(\n",
    "                class_mu,\n",
    "                class_scale_diag,\n",
    "                img_embs,\n",
    "                unnormalized=self.unnormalized_log_probs,\n",
    "            )\n",
    "\n",
    "            class_log_probs = self.log_prob(\n",
    "                class_mu,\n",
    "                class_scale_diag,\n",
    "                class_mu,\n",
    "                unnormalized=self.unnormalized_log_probs,\n",
    "            )\n",
    "\n",
    "            loss = tf.reduce_mean(\n",
    "                self.loss_fn(y_true, img_log_probs, self.label_smoothing)\n",
    "            )\n",
    "            loss += tf.reduce_mean(\n",
    "                self.loss_fn(\n",
    "                    tf.range(self.n_classes), class_log_probs, self.label_smoothing\n",
    "                )\n",
    "            )\n",
    "            loss = loss / 2\n",
    "\n",
    "        trainable_vars = self.trainable_variables\n",
    "        gradients = tape.gradient(loss, trainable_vars)\n",
    "        self.optimizer.apply_gradients(zip(gradients, trainable_vars))\n",
    "\n",
    "        self.loss_tracker.update_state(loss)\n",
    "        self.accuracy_tracker.update_state(\n",
    "            self.accuracy(y_true, img_embs, img_log_probs)\n",
    "        )\n",
    "        return {m.name: m.result() for m in self.metrics}\n",
    "\n",
    "    def test_step(self, data):\n",
    "        images, y_true = data\n",
    "        training = False\n",
    "\n",
    "        img_embs = self.image_encoder(images, training=training)\n",
    "\n",
    "        class_embs = self.class_encoder(self.dummy_classes, training=training)\n",
    "\n",
    "        if self.learn_scale:\n",
    "            class_mu, class_scale_diag = (\n",
    "                class_embs[:, : self.embedding_dims],\n",
    "                class_embs[:, self.embedding_dims :],\n",
    "            )\n",
    "        else:\n",
    "            class_mu = class_embs\n",
    "            class_scale_diag = tf.ones_like(class_mu)\n",
    "\n",
    "        img_log_probs = self.log_prob(\n",
    "            class_mu,\n",
    "            class_scale_diag,\n",
    "            img_embs,\n",
    "            unnormalized=self.unnormalized_log_probs,\n",
    "        )\n",
    "\n",
    "        class_log_probs = self.log_prob(\n",
    "            class_mu,\n",
    "            class_scale_diag,\n",
    "            class_mu,\n",
    "            unnormalized=self.unnormalized_log_probs,\n",
    "        )\n",
    "\n",
    "        loss = tf.reduce_mean(\n",
    "            self.loss_fn(y_true, img_log_probs, self.label_smoothing)\n",
    "        )\n",
    "        loss += tf.reduce_mean(\n",
    "            self.loss_fn(\n",
    "                tf.range(self.n_classes), class_log_probs, self.label_smoothing\n",
    "            )\n",
    "        )\n",
    "        loss = loss / 2\n",
    "\n",
    "        self.loss_tracker.update_state(loss)\n",
    "        self.accuracy_tracker.update_state(\n",
    "            self.accuracy(y_true, img_embs, img_log_probs)\n",
    "        )\n",
    "        return {m.name: m.result() for m in self.metrics}\n",
    "\n",
    "\n",
    "def get_class_encoder(n_classes, embedding_dims, learn_scale=False):\n",
    "    inputs = layers.Input((0,))\n",
    "    means = layers.Embedding(\n",
    "        input_dim=n_classes,\n",
    "        output_dim=embedding_dims,\n",
    "        embeddings_initializer=tf.keras.initializers.VarianceScaling(\n",
    "            scale=0.1, mode=\"fan_out\", distribution=\"uniform\", seed=None\n",
    "        ),\n",
    "    )(inputs)\n",
    "    if not learn_scale:\n",
    "        return tf.keras.Model(inputs, means)\n",
    "    diags = layers.Embedding(\n",
    "        input_dim=n_classes,\n",
    "        output_dim=embedding_dims,\n",
    "        embeddings_initializer=\"ones\",\n",
    "    )(inputs)\n",
    "    out = layers.Concatenate(axis=1)([means, tf.abs(diags)])\n",
    "    return tf.keras.Model(inputs, out)\n",
    "\n",
    "\n",
    "def get_img_encoder(image_shape, embedding_dims):\n",
    "    inputs = layers.Input(image_shape)\n",
    "    x = keras_cv.models.ResNetV2Backbone.from_preset(\n",
    "        \"resnet18_v2\",\n",
    "    )(inputs)\n",
    "    x = layers.Flatten()(x)\n",
    "    means = layers.Dense(embedding_dims, activation=None)(x)\n",
    "\n",
    "    return tf.keras.Model(inputs=inputs, outputs=means)\n",
    "\n",
    "\n",
    "def get_model(image_shape, n_classes, embedding_dims, learn_scale=False):\n",
    "    image_encoder = get_img_encoder(image_shape, embedding_dims)\n",
    "    class_encoder = get_class_encoder(n_classes, embedding_dims, learn_scale)\n",
    "\n",
    "    image_encoder.build((1,) + image_shape)\n",
    "    class_encoder.build((1,))\n",
    "\n",
    "    soc_model = SOCModel(\n",
    "        image_encoder=image_encoder,\n",
    "        class_encoder=class_encoder,\n",
    "        n_classes=n_classes,\n",
    "        embedding_dims=embedding_dims,\n",
    "        learn_scale=learn_scale,\n",
    "    )\n",
    "\n",
    "    return soc_model, image_encoder, class_encoder"
   ]
  },
  {
   "cell_type": "markdown",
   "metadata": {
    "id": "phaNDU8cxx65"
   },
   "source": [
    "## Train the SOC-Embedding model"
   ]
  },
  {
   "cell_type": "code",
   "execution_count": 12,
   "metadata": {
    "colab": {
     "base_uri": "https://localhost:8080/"
    },
    "id": "r4jyNtgmxx65",
    "outputId": "52d4526e-9608-47f0-f3ff-bab64a7ed3f5",
    "tags": []
   },
   "outputs": [
    {
     "name": "stdout",
     "output_type": "stream",
     "text": [
      "Running training with 10 embedding dimensions...\n",
      "Epoch 1/30\n",
      "390/390 - 24s - loss: 1.8913 - acc: 0.4329 - val_loss: 1.9695 - val_acc: 0.3485 - 24s/epoch - 61ms/step\n",
      "Epoch 2/30\n",
      "390/390 - 10s - loss: 1.3475 - acc: 0.5557 - val_loss: 1.3893 - val_acc: 0.4410 - 10s/epoch - 27ms/step\n",
      "Epoch 3/30\n",
      "390/390 - 10s - loss: 0.9861 - acc: 0.6150 - val_loss: 0.9956 - val_acc: 0.5971 - 10s/epoch - 27ms/step\n",
      "Epoch 4/30\n",
      "390/390 - 10s - loss: 0.9031 - acc: 0.6614 - val_loss: 1.0218 - val_acc: 0.5808 - 10s/epoch - 26ms/step\n",
      "Epoch 5/30\n",
      "390/390 - 10s - loss: 0.8658 - acc: 0.6884 - val_loss: 0.8638 - val_acc: 0.6814 - 10s/epoch - 26ms/step\n",
      "Epoch 6/30\n",
      "390/390 - 10s - loss: 0.8376 - acc: 0.7099 - val_loss: 0.8226 - val_acc: 0.7182 - 10s/epoch - 26ms/step\n",
      "Epoch 7/30\n",
      "390/390 - 10s - loss: 0.8170 - acc: 0.7274 - val_loss: 0.9070 - val_acc: 0.6661 - 10s/epoch - 26ms/step\n",
      "Epoch 8/30\n",
      "390/390 - 10s - loss: 0.7988 - acc: 0.7442 - val_loss: 0.8059 - val_acc: 0.7326 - 10s/epoch - 26ms/step\n",
      "Epoch 9/30\n",
      "390/390 - 10s - loss: 0.7814 - acc: 0.7560 - val_loss: 0.8193 - val_acc: 0.7232 - 10s/epoch - 26ms/step\n",
      "Epoch 10/30\n",
      "390/390 - 10s - loss: 0.7692 - acc: 0.7655 - val_loss: 0.7629 - val_acc: 0.7661 - 10s/epoch - 26ms/step\n",
      "Epoch 11/30\n",
      "390/390 - 10s - loss: 0.7577 - acc: 0.7775 - val_loss: 0.7544 - val_acc: 0.7750 - 10s/epoch - 26ms/step\n",
      "Epoch 12/30\n",
      "390/390 - 10s - loss: 0.7419 - acc: 0.7881 - val_loss: 0.7465 - val_acc: 0.7851 - 10s/epoch - 26ms/step\n",
      "Epoch 13/30\n",
      "390/390 - 10s - loss: 0.7296 - acc: 0.7996 - val_loss: 0.7165 - val_acc: 0.8092 - 10s/epoch - 26ms/step\n",
      "Epoch 14/30\n",
      "390/390 - 10s - loss: 0.7189 - acc: 0.8074 - val_loss: 0.7115 - val_acc: 0.8162 - 10s/epoch - 26ms/step\n",
      "Epoch 15/30\n",
      "390/390 - 10s - loss: 0.7072 - acc: 0.8186 - val_loss: 0.7144 - val_acc: 0.8138 - 10s/epoch - 26ms/step\n",
      "Epoch 16/30\n",
      "390/390 - 10s - loss: 0.6975 - acc: 0.8264 - val_loss: 0.7137 - val_acc: 0.8123 - 10s/epoch - 26ms/step\n",
      "Epoch 17/30\n",
      "390/390 - 10s - loss: 0.6887 - acc: 0.8341 - val_loss: 0.7058 - val_acc: 0.8178 - 10s/epoch - 26ms/step\n",
      "Epoch 18/30\n",
      "390/390 - 10s - loss: 0.6798 - acc: 0.8433 - val_loss: 0.6868 - val_acc: 0.8331 - 10s/epoch - 26ms/step\n",
      "Epoch 19/30\n",
      "390/390 - 10s - loss: 0.6729 - acc: 0.8484 - val_loss: 0.6885 - val_acc: 0.8327 - 10s/epoch - 26ms/step\n",
      "Epoch 20/30\n",
      "390/390 - 10s - loss: 0.6631 - acc: 0.8561 - val_loss: 0.6819 - val_acc: 0.8397 - 10s/epoch - 26ms/step\n",
      "Epoch 21/30\n",
      "390/390 - 10s - loss: 0.6528 - acc: 0.8660 - val_loss: 0.6748 - val_acc: 0.8433 - 10s/epoch - 26ms/step\n",
      "Epoch 22/30\n",
      "390/390 - 10s - loss: 0.6456 - acc: 0.8731 - val_loss: 0.6744 - val_acc: 0.8472 - 10s/epoch - 26ms/step\n",
      "Epoch 23/30\n",
      "390/390 - 10s - loss: 0.6412 - acc: 0.8766 - val_loss: 0.6791 - val_acc: 0.8427 - 10s/epoch - 26ms/step\n",
      "Epoch 24/30\n",
      "390/390 - 10s - loss: 0.6336 - acc: 0.8825 - val_loss: 0.6755 - val_acc: 0.8474 - 10s/epoch - 26ms/step\n",
      "Epoch 25/30\n",
      "390/390 - 10s - loss: 0.6310 - acc: 0.8853 - val_loss: 0.6685 - val_acc: 0.8558 - 10s/epoch - 26ms/step\n",
      "Epoch 26/30\n",
      "390/390 - 10s - loss: 0.6247 - acc: 0.8894 - val_loss: 0.6707 - val_acc: 0.8527 - 10s/epoch - 26ms/step\n",
      "Epoch 27/30\n",
      "390/390 - 10s - loss: 0.6228 - acc: 0.8934 - val_loss: 0.6689 - val_acc: 0.8533 - 10s/epoch - 26ms/step\n",
      "Epoch 28/30\n",
      "390/390 - 10s - loss: 0.6224 - acc: 0.8931 - val_loss: 0.6677 - val_acc: 0.8539 - 10s/epoch - 26ms/step\n",
      "Epoch 29/30\n",
      "390/390 - 10s - loss: 0.6212 - acc: 0.8945 - val_loss: 0.6685 - val_acc: 0.8540 - 10s/epoch - 26ms/step\n",
      "Epoch 30/30\n",
      "390/390 - 10s - loss: 0.6185 - acc: 0.8958 - val_loss: 0.6681 - val_acc: 0.8531 - 10s/epoch - 26ms/step\n",
      "max val_accuracy: 0.8558148741722107 \n",
      "\n",
      "Running training with 5 embedding dimensions...\n",
      "Epoch 1/30\n",
      "390/390 - 21s - loss: 1.9472 - acc: 0.3973 - val_loss: 1.8770 - val_acc: 0.4687 - 21s/epoch - 53ms/step\n",
      "Epoch 2/30\n",
      "390/390 - 10s - loss: 1.5765 - acc: 0.5277 - val_loss: 1.5078 - val_acc: 0.5031 - 10s/epoch - 27ms/step\n",
      "Epoch 3/30\n",
      "390/390 - 10s - loss: 1.2145 - acc: 0.5934 - val_loss: 1.2788 - val_acc: 0.5155 - 10s/epoch - 27ms/step\n",
      "Epoch 4/30\n",
      "390/390 - 10s - loss: 1.0226 - acc: 0.6330 - val_loss: 1.0181 - val_acc: 0.6446 - 10s/epoch - 27ms/step\n",
      "Epoch 5/30\n",
      "390/390 - 10s - loss: 0.9492 - acc: 0.6654 - val_loss: 1.0792 - val_acc: 0.5740 - 10s/epoch - 26ms/step\n",
      "Epoch 6/30\n",
      "390/390 - 10s - loss: 0.9155 - acc: 0.6881 - val_loss: 1.0146 - val_acc: 0.6132 - 10s/epoch - 26ms/step\n",
      "Epoch 7/30\n",
      "390/390 - 10s - loss: 0.8909 - acc: 0.7068 - val_loss: 0.9696 - val_acc: 0.6464 - 10s/epoch - 26ms/step\n",
      "Epoch 8/30\n",
      "390/390 - 10s - loss: 0.8708 - acc: 0.7250 - val_loss: 0.9148 - val_acc: 0.6944 - 10s/epoch - 26ms/step\n",
      "Epoch 9/30\n",
      "390/390 - 10s - loss: 0.8553 - acc: 0.7352 - val_loss: 0.8613 - val_acc: 0.7274 - 10s/epoch - 26ms/step\n",
      "Epoch 10/30\n",
      "390/390 - 10s - loss: 0.8403 - acc: 0.7463 - val_loss: 0.8107 - val_acc: 0.7677 - 10s/epoch - 26ms/step\n",
      "Epoch 11/30\n",
      "390/390 - 10s - loss: 0.8255 - acc: 0.7585 - val_loss: 0.8646 - val_acc: 0.7247 - 10s/epoch - 26ms/step\n",
      "Epoch 12/30\n",
      "390/390 - 10s - loss: 0.8110 - acc: 0.7694 - val_loss: 0.9078 - val_acc: 0.6868 - 10s/epoch - 26ms/step\n",
      "Epoch 13/30\n",
      "390/390 - 10s - loss: 0.7985 - acc: 0.7795 - val_loss: 0.7969 - val_acc: 0.7810 - 10s/epoch - 26ms/step\n",
      "Epoch 14/30\n",
      "390/390 - 10s - loss: 0.7869 - acc: 0.7901 - val_loss: 0.7957 - val_acc: 0.7807 - 10s/epoch - 26ms/step\n",
      "Epoch 15/30\n",
      "390/390 - 10s - loss: 0.7748 - acc: 0.7982 - val_loss: 0.7846 - val_acc: 0.7892 - 10s/epoch - 26ms/step\n",
      "Epoch 16/30\n",
      "390/390 - 10s - loss: 0.7636 - acc: 0.8082 - val_loss: 0.7678 - val_acc: 0.8013 - 10s/epoch - 26ms/step\n",
      "Epoch 17/30\n",
      "390/390 - 10s - loss: 0.7525 - acc: 0.8163 - val_loss: 0.7520 - val_acc: 0.8165 - 10s/epoch - 26ms/step\n",
      "Epoch 18/30\n",
      "390/390 - 10s - loss: 0.7419 - acc: 0.8221 - val_loss: 0.7454 - val_acc: 0.8239 - 10s/epoch - 26ms/step\n",
      "Epoch 19/30\n",
      "390/390 - 10s - loss: 0.7305 - acc: 0.8331 - val_loss: 0.7723 - val_acc: 0.7982 - 10s/epoch - 26ms/step\n",
      "Epoch 20/30\n",
      "390/390 - 10s - loss: 0.7222 - acc: 0.8405 - val_loss: 0.7330 - val_acc: 0.8275 - 10s/epoch - 26ms/step\n",
      "Epoch 21/30\n",
      "390/390 - 10s - loss: 0.7118 - acc: 0.8484 - val_loss: 0.7321 - val_acc: 0.8293 - 10s/epoch - 26ms/step\n",
      "Epoch 22/30\n",
      "390/390 - 10s - loss: 0.7050 - acc: 0.8518 - val_loss: 0.7336 - val_acc: 0.8299 - 10s/epoch - 26ms/step\n",
      "Epoch 23/30\n",
      "390/390 - 10s - loss: 0.7000 - acc: 0.8577 - val_loss: 0.7192 - val_acc: 0.8408 - 10s/epoch - 26ms/step\n",
      "Epoch 24/30\n",
      "390/390 - 10s - loss: 0.6928 - acc: 0.8614 - val_loss: 0.7224 - val_acc: 0.8348 - 10s/epoch - 26ms/step\n",
      "Epoch 25/30\n",
      "390/390 - 10s - loss: 0.6858 - acc: 0.8691 - val_loss: 0.7188 - val_acc: 0.8391 - 10s/epoch - 26ms/step\n",
      "Epoch 26/30\n",
      "390/390 - 10s - loss: 0.6819 - acc: 0.8711 - val_loss: 0.7214 - val_acc: 0.8389 - 10s/epoch - 26ms/step\n",
      "Epoch 27/30\n",
      "390/390 - 10s - loss: 0.6801 - acc: 0.8723 - val_loss: 0.7174 - val_acc: 0.8417 - 10s/epoch - 26ms/step\n",
      "Epoch 28/30\n",
      "390/390 - 10s - loss: 0.6764 - acc: 0.8767 - val_loss: 0.7156 - val_acc: 0.8423 - 10s/epoch - 26ms/step\n",
      "Epoch 29/30\n",
      "390/390 - 10s - loss: 0.6751 - acc: 0.8768 - val_loss: 0.7160 - val_acc: 0.8427 - 10s/epoch - 27ms/step\n",
      "Epoch 30/30\n",
      "390/390 - 10s - loss: 0.6742 - acc: 0.8790 - val_loss: 0.7159 - val_acc: 0.8431 - 10s/epoch - 26ms/step\n",
      "max val_accuracy: 0.8430577516555786 \n",
      "\n",
      "Running training with 1 embedding dimensions...\n",
      "Epoch 1/30\n",
      "390/390 - 20s - loss: 2.1542 - acc: 0.1550 - val_loss: 2.1147 - val_acc: 0.1903 - 20s/epoch - 52ms/step\n",
      "Epoch 2/30\n",
      "390/390 - 11s - loss: 2.0075 - acc: 0.2154 - val_loss: 1.9718 - val_acc: 0.2150 - 11s/epoch - 27ms/step\n",
      "Epoch 3/30\n",
      "390/390 - 10s - loss: 1.9118 - acc: 0.2414 - val_loss: 1.8851 - val_acc: 0.2558 - 10s/epoch - 27ms/step\n",
      "Epoch 4/30\n",
      "390/390 - 10s - loss: 1.8595 - acc: 0.2760 - val_loss: 1.8518 - val_acc: 0.2832 - 10s/epoch - 27ms/step\n",
      "Epoch 5/30\n",
      "390/390 - 10s - loss: 1.8225 - acc: 0.3140 - val_loss: 1.8163 - val_acc: 0.3167 - 10s/epoch - 26ms/step\n",
      "Epoch 6/30\n",
      "390/390 - 10s - loss: 1.7871 - acc: 0.3476 - val_loss: 1.7741 - val_acc: 0.3562 - 10s/epoch - 26ms/step\n",
      "Epoch 7/30\n",
      "390/390 - 10s - loss: 1.7671 - acc: 0.3608 - val_loss: 1.7663 - val_acc: 0.3710 - 10s/epoch - 26ms/step\n",
      "Epoch 8/30\n",
      "390/390 - 10s - loss: 1.7496 - acc: 0.3805 - val_loss: 1.7555 - val_acc: 0.3760 - 10s/epoch - 26ms/step\n",
      "Epoch 9/30\n",
      "390/390 - 10s - loss: 1.7309 - acc: 0.3967 - val_loss: 1.7563 - val_acc: 0.3839 - 10s/epoch - 26ms/step\n",
      "Epoch 10/30\n",
      "390/390 - 10s - loss: 1.7227 - acc: 0.4141 - val_loss: 1.7210 - val_acc: 0.4199 - 10s/epoch - 26ms/step\n",
      "Epoch 11/30\n",
      "390/390 - 10s - loss: 1.7123 - acc: 0.4310 - val_loss: 1.7135 - val_acc: 0.4402 - 10s/epoch - 26ms/step\n",
      "Epoch 12/30\n",
      "390/390 - 10s - loss: 1.7030 - acc: 0.4414 - val_loss: 1.6960 - val_acc: 0.4572 - 10s/epoch - 26ms/step\n",
      "Epoch 13/30\n",
      "390/390 - 10s - loss: 1.6963 - acc: 0.4520 - val_loss: 1.6965 - val_acc: 0.4484 - 10s/epoch - 26ms/step\n",
      "Epoch 14/30\n",
      "390/390 - 10s - loss: 1.6881 - acc: 0.4681 - val_loss: 1.6969 - val_acc: 0.4513 - 10s/epoch - 26ms/step\n",
      "Epoch 15/30\n",
      "390/390 - 10s - loss: 1.6789 - acc: 0.4788 - val_loss: 1.6732 - val_acc: 0.5037 - 10s/epoch - 26ms/step\n",
      "Epoch 16/30\n",
      "390/390 - 10s - loss: 1.6729 - acc: 0.4912 - val_loss: 1.6559 - val_acc: 0.5315 - 10s/epoch - 26ms/step\n",
      "Epoch 17/30\n",
      "390/390 - 10s - loss: 1.6661 - acc: 0.4982 - val_loss: 1.6616 - val_acc: 0.5358 - 10s/epoch - 26ms/step\n",
      "Epoch 18/30\n",
      "390/390 - 10s - loss: 1.6629 - acc: 0.5045 - val_loss: 1.6539 - val_acc: 0.5351 - 10s/epoch - 26ms/step\n",
      "Epoch 19/30\n",
      "390/390 - 10s - loss: 1.6553 - acc: 0.5139 - val_loss: 1.6456 - val_acc: 0.5540 - 10s/epoch - 26ms/step\n",
      "Epoch 20/30\n",
      "390/390 - 10s - loss: 1.6499 - acc: 0.5220 - val_loss: 1.6506 - val_acc: 0.5393 - 10s/epoch - 26ms/step\n",
      "Epoch 21/30\n",
      "390/390 - 10s - loss: 1.6462 - acc: 0.5286 - val_loss: 1.6491 - val_acc: 0.5432 - 10s/epoch - 26ms/step\n",
      "Epoch 22/30\n",
      "390/390 - 10s - loss: 1.6399 - acc: 0.5367 - val_loss: 1.6416 - val_acc: 0.5543 - 10s/epoch - 26ms/step\n",
      "Epoch 23/30\n",
      "390/390 - 10s - loss: 1.6353 - acc: 0.5396 - val_loss: 1.6383 - val_acc: 0.5594 - 10s/epoch - 27ms/step\n",
      "Epoch 24/30\n",
      "390/390 - 10s - loss: 1.6352 - acc: 0.5467 - val_loss: 1.6291 - val_acc: 0.5702 - 10s/epoch - 27ms/step\n",
      "Epoch 25/30\n",
      "390/390 - 10s - loss: 1.6315 - acc: 0.5520 - val_loss: 1.6259 - val_acc: 0.5750 - 10s/epoch - 27ms/step\n",
      "Epoch 26/30\n",
      "390/390 - 10s - loss: 1.6273 - acc: 0.5539 - val_loss: 1.6296 - val_acc: 0.5846 - 10s/epoch - 27ms/step\n",
      "Epoch 27/30\n",
      "390/390 - 10s - loss: 1.6263 - acc: 0.5550 - val_loss: 1.6254 - val_acc: 0.5854 - 10s/epoch - 27ms/step\n",
      "Epoch 28/30\n",
      "390/390 - 10s - loss: 1.6248 - acc: 0.5599 - val_loss: 1.6253 - val_acc: 0.5761 - 10s/epoch - 26ms/step\n",
      "Epoch 29/30\n",
      "390/390 - 10s - loss: 1.6228 - acc: 0.5590 - val_loss: 1.6249 - val_acc: 0.5781 - 10s/epoch - 27ms/step\n",
      "Epoch 30/30\n",
      "390/390 - 10s - loss: 1.6230 - acc: 0.5607 - val_loss: 1.6249 - val_acc: 0.5785 - 10s/epoch - 26ms/step\n",
      "max val_accuracy: 0.5854430198669434 \n",
      "\n"
     ]
    }
   ],
   "source": [
    "for emb_dim in EMBEDDING_DIMENSIONS:\n",
    "    print(f\"Running training with {emb_dim} embedding dimensions...\")\n",
    "    with strategy.scope():\n",
    "        soc_model, im_enc, class_enc = get_model(\n",
    "            INPUT_SHAPE, N_CLASSES, emb_dim\n",
    "        )\n",
    "\n",
    "    MAX_LR = 0.001\n",
    "\n",
    "    lr_scheduler = tf.keras.optimizers.schedules.CosineDecay(\n",
    "        initial_learning_rate=MAX_LR, decay_steps=STEPS_PER_EPOCH * EPOCHS\n",
    "    )\n",
    "\n",
    "    optimizer = tf.keras.optimizers.Adam(\n",
    "        learning_rate=lr_scheduler,\n",
    "    )\n",
    "\n",
    "    metrics = []\n",
    "\n",
    "    soc_model.compile(\n",
    "        optimizer=optimizer,\n",
    "        run_eagerly=False,\n",
    "    )\n",
    "\n",
    "    history = soc_model.fit(\n",
    "        train_ds,\n",
    "        steps_per_epoch=STEPS_PER_EPOCH,\n",
    "        validation_data=val_ds,\n",
    "        epochs=EPOCHS,\n",
    "        verbose=2,\n",
    "        callbacks=[],\n",
    "    )\n",
    "\n",
    "    print(f\"max val_accuracy: {np.max(history.history['val_acc'])} \\n\")\n",
    "\n",
    "    histories[f\"self_organizing_classes_{emb_dim}\"] = history"
   ]
  },
  {
   "cell_type": "markdown",
   "metadata": {
    "id": "CiwYTyM9IKAZ"
   },
   "source": [
    "# Baseline model"
   ]
  },
  {
   "cell_type": "code",
   "execution_count": 13,
   "metadata": {
    "colab": {
     "base_uri": "https://localhost:8080/"
    },
    "id": "-0bEdIX7IKAZ",
    "outputId": "bf566df2-7fd4-42a9-c319-fa7ea8ed0adb",
    "tags": []
   },
   "outputs": [
    {
     "name": "stdout",
     "output_type": "stream",
     "text": [
      "Epoch 1/30\n",
      "390/390 - 18s - loss: 1.7535 - acc: 0.4228 - val_loss: 2.1358 - val_acc: 0.3558 - 18s/epoch - 46ms/step\n",
      "Epoch 2/30\n",
      "390/390 - 10s - loss: 1.4911 - acc: 0.5508 - val_loss: 1.9836 - val_acc: 0.4325 - 10s/epoch - 26ms/step\n",
      "Epoch 3/30\n",
      "390/390 - 10s - loss: 1.3564 - acc: 0.6137 - val_loss: 1.4656 - val_acc: 0.5792 - 10s/epoch - 26ms/step\n",
      "Epoch 4/30\n",
      "390/390 - 10s - loss: 1.2773 - acc: 0.6544 - val_loss: 1.2930 - val_acc: 0.6447 - 10s/epoch - 27ms/step\n",
      "Epoch 5/30\n",
      "390/390 - 10s - loss: 1.2139 - acc: 0.6838 - val_loss: 1.2093 - val_acc: 0.6803 - 10s/epoch - 26ms/step\n",
      "Epoch 6/30\n",
      "390/390 - 10s - loss: 1.1632 - acc: 0.7075 - val_loss: 1.3382 - val_acc: 0.6384 - 10s/epoch - 25ms/step\n",
      "Epoch 7/30\n",
      "390/390 - 10s - loss: 1.1291 - acc: 0.7206 - val_loss: 1.1539 - val_acc: 0.7100 - 10s/epoch - 26ms/step\n",
      "Epoch 8/30\n",
      "390/390 - 10s - loss: 1.0913 - acc: 0.7374 - val_loss: 1.0467 - val_acc: 0.7582 - 10s/epoch - 26ms/step\n",
      "Epoch 9/30\n",
      "390/390 - 10s - loss: 1.0638 - acc: 0.7498 - val_loss: 1.0138 - val_acc: 0.7734 - 10s/epoch - 26ms/step\n",
      "Epoch 10/30\n",
      "390/390 - 10s - loss: 1.0328 - acc: 0.7658 - val_loss: 1.0441 - val_acc: 0.7630 - 10s/epoch - 25ms/step\n",
      "Epoch 11/30\n",
      "390/390 - 10s - loss: 1.0105 - acc: 0.7738 - val_loss: 1.2499 - val_acc: 0.6791 - 10s/epoch - 26ms/step\n",
      "Epoch 12/30\n",
      "390/390 - 10s - loss: 0.9846 - acc: 0.7848 - val_loss: 0.9625 - val_acc: 0.7979 - 10s/epoch - 26ms/step\n",
      "Epoch 13/30\n",
      "390/390 - 10s - loss: 0.9648 - acc: 0.7939 - val_loss: 0.9909 - val_acc: 0.7794 - 10s/epoch - 26ms/step\n",
      "Epoch 14/30\n",
      "390/390 - 10s - loss: 0.9412 - acc: 0.8045 - val_loss: 0.9889 - val_acc: 0.7883 - 10s/epoch - 26ms/step\n",
      "Epoch 15/30\n",
      "390/390 - 10s - loss: 0.9182 - acc: 0.8163 - val_loss: 0.9540 - val_acc: 0.8027 - 10s/epoch - 27ms/step\n",
      "Epoch 16/30\n",
      "390/390 - 10s - loss: 0.9012 - acc: 0.8220 - val_loss: 0.9268 - val_acc: 0.8136 - 10s/epoch - 25ms/step\n",
      "Epoch 17/30\n",
      "390/390 - 10s - loss: 0.8806 - acc: 0.8324 - val_loss: 0.9825 - val_acc: 0.7887 - 10s/epoch - 26ms/step\n",
      "Epoch 18/30\n",
      "390/390 - 10s - loss: 0.8651 - acc: 0.8391 - val_loss: 0.9722 - val_acc: 0.7950 - 10s/epoch - 27ms/step\n",
      "Epoch 19/30\n",
      "390/390 - 10s - loss: 0.8415 - acc: 0.8490 - val_loss: 0.8789 - val_acc: 0.8304 - 10s/epoch - 25ms/step\n",
      "Epoch 20/30\n",
      "390/390 - 10s - loss: 0.8267 - acc: 0.8573 - val_loss: 0.8919 - val_acc: 0.8287 - 10s/epoch - 26ms/step\n",
      "Epoch 21/30\n",
      "390/390 - 10s - loss: 0.8093 - acc: 0.8635 - val_loss: 0.8682 - val_acc: 0.8381 - 10s/epoch - 26ms/step\n",
      "Epoch 22/30\n",
      "390/390 - 10s - loss: 0.7907 - acc: 0.8722 - val_loss: 0.8383 - val_acc: 0.8524 - 10s/epoch - 26ms/step\n",
      "Epoch 23/30\n",
      "390/390 - 10s - loss: 0.7789 - acc: 0.8755 - val_loss: 0.8806 - val_acc: 0.8377 - 10s/epoch - 25ms/step\n",
      "Epoch 24/30\n",
      "390/390 - 10s - loss: 0.7682 - acc: 0.8829 - val_loss: 0.8575 - val_acc: 0.8447 - 10s/epoch - 26ms/step\n",
      "Epoch 25/30\n",
      "390/390 - 10s - loss: 0.7545 - acc: 0.8879 - val_loss: 0.8395 - val_acc: 0.8525 - 10s/epoch - 27ms/step\n",
      "Epoch 26/30\n",
      "390/390 - 10s - loss: 0.7449 - acc: 0.8929 - val_loss: 0.8584 - val_acc: 0.8457 - 10s/epoch - 26ms/step\n",
      "Epoch 27/30\n",
      "390/390 - 10s - loss: 0.7396 - acc: 0.8957 - val_loss: 0.8452 - val_acc: 0.8508 - 10s/epoch - 25ms/step\n",
      "Epoch 28/30\n",
      "390/390 - 10s - loss: 0.7336 - acc: 0.8973 - val_loss: 0.8401 - val_acc: 0.8534 - 10s/epoch - 26ms/step\n",
      "Epoch 29/30\n",
      "390/390 - 10s - loss: 0.7327 - acc: 0.8988 - val_loss: 0.8381 - val_acc: 0.8540 - 10s/epoch - 26ms/step\n",
      "Epoch 30/30\n",
      "390/390 - 10s - loss: 0.7277 - acc: 0.9003 - val_loss: 0.8379 - val_acc: 0.8544 - 10s/epoch - 26ms/step\n"
     ]
    }
   ],
   "source": [
    "def categorical_crossentropy(y_true, y_pred):\n",
    "    loss = tf.keras.losses.categorical_crossentropy(\n",
    "        tf.one_hot(tf.squeeze(y_true, axis=1), N_CLASSES),\n",
    "        y_pred,\n",
    "        from_logits=True,\n",
    "        label_smoothing=0.1,\n",
    "    )\n",
    "    return tf.reduce_mean(loss)\n",
    "\n",
    "\n",
    "def acc(y_true, y_pred):\n",
    "    acc = tf.keras.metrics.sparse_categorical_accuracy(y_true, y_pred)\n",
    "    return tf.reduce_mean(acc)\n",
    "\n",
    "\n",
    "with strategy.scope():\n",
    "    img_model = get_img_encoder(INPUT_SHAPE, N_CLASSES)\n",
    "    img_model.build((1,) + INPUT_SHAPE)\n",
    "\n",
    "lr_scheduler = tf.keras.optimizers.schedules.CosineDecay(\n",
    "    initial_learning_rate=MAX_LR, decay_steps=STEPS_PER_EPOCH * EPOCHS\n",
    ")\n",
    "\n",
    "optimizer = tf.keras.optimizers.Adam(learning_rate=lr_scheduler)\n",
    "\n",
    "metrics = [acc]\n",
    "\n",
    "img_model.compile(\n",
    "    loss=categorical_crossentropy,\n",
    "    optimizer=optimizer,\n",
    "    metrics=metrics,\n",
    "    run_eagerly=False,\n",
    "    jit_compile=False,\n",
    ")\n",
    "\n",
    "history = img_model.fit(\n",
    "    train_ds,\n",
    "    steps_per_epoch=STEPS_PER_EPOCH,\n",
    "    validation_data=val_ds,\n",
    "    epochs=EPOCHS,\n",
    "    verbose=2,\n",
    "    callbacks=[],\n",
    ")\n",
    "\n",
    "histories[\"categorical_crossentropy\"] = history"
   ]
  },
  {
   "cell_type": "markdown",
   "metadata": {
    "id": "Oo-3lliRxx65"
   },
   "source": [
    "## Visualize results"
   ]
  },
  {
   "cell_type": "code",
   "execution_count": 14,
   "metadata": {
    "id": "UWlvB0kTxx65"
   },
   "outputs": [
    {
     "name": "stdout",
     "output_type": "stream",
     "text": [
      "{'self_organizing_classes': {'emb_dims': [10, 5, 1], 'val_acc': [0.8558148741722107, 0.8430577516555786, 0.5854430198669434]}, 'categorical_crossentropy': {'emb_dims': [10], 'val_acc': [0.8544303774833679]}}\n"
     ]
    }
   ],
   "source": [
    "maxes = {\n",
    "    \"self_organizing_classes\": {\n",
    "        \"emb_dims\": [],\n",
    "        \"val_acc\": [],\n",
    "    },\n",
    "    \"categorical_crossentropy\": {\n",
    "        \"emb_dims\": [],\n",
    "        \"val_acc\": [],\n",
    "    },\n",
    "}\n",
    "\n",
    "for details, history in histories.items():\n",
    "    if details.startswith(\"self_organizing_classes_\"):\n",
    "        emb_dims = int(details.replace(\"self_organizing_classes_\", \"\"))\n",
    "        details = \"self_organizing_classes\"\n",
    "    else:\n",
    "        emb_dims = N_CLASSES\n",
    "        details = \"categorical_crossentropy\"\n",
    "\n",
    "    for metric in history.history.keys():\n",
    "        if \"acc\" in metric and \"val_\" not in metric:\n",
    "            maxes[details][\"emb_dims\"].append(emb_dims)\n",
    "            maxes[details][\"val_acc\"].append(np.max(history.history[\"val_\" + metric]))\n",
    "\n",
    "print(maxes)"
   ]
  },
  {
   "cell_type": "code",
   "execution_count": 15,
   "metadata": {},
   "outputs": [
    {
     "data": {
      "image/png": "[encoded data removed]",
      "text/plain": [
       "<Figure size 1200x400 with 1 Axes>"
      ]
     },
     "metadata": {},
     "output_type": "display_data"
    }
   ],
   "source": [
    "sorted_indices = np.argsort(maxes[\"self_organizing_classes\"][\"emb_dims\"], axis=0)\n",
    "\n",
    "cat_cross = (\n",
    "    maxes[\"categorical_crossentropy\"][\"emb_dims\"],\n",
    "    maxes[\"categorical_crossentropy\"][\"val_acc\"],\n",
    ")\n",
    "soc = (\n",
    "    np.array(maxes[\"self_organizing_classes\"][\"emb_dims\"])[sorted_indices],\n",
    "    np.array(maxes[\"self_organizing_classes\"][\"val_acc\"])[sorted_indices],\n",
    ")\n",
    "\n",
    "\n",
    "fig = plt.figure(figsize=(12, 4))\n",
    "fig.suptitle(DATASET)\n",
    "ax = fig.add_subplot(111)\n",
    "ax.plot(*soc, label=\"Self Organizing Classes\", color=\"blue\", marker=\".\")\n",
    "ax.plot(*cat_cross, label=\"Categorical Crossentropy\", color=\"orange\", marker=\".\")\n",
    "plt.xticks(sorted(set(list(soc[0]) + list(cat_cross[0]))))\n",
    "plt.xlabel(\"Features\")\n",
    "plt.ylabel(\"Val Accuracy\")\n",
    "ax.legend()\n",
    "plt.show()"
   ]
  }
 ],
 "metadata": {
  "accelerator": "GPU",
  "colab": {
   "gpuType": "T4",
   "provenance": []
  },
  "gpuClass": "premium",
  "kernelspec": {
   "display_name": "Python 3 (ipykernel)",
   "language": "python",
   "name": "python3"
  },
  "language_info": {
   "codemirror_mode": {
    "name": "ipython",
    "version": 3
   },
   "file_extension": ".py",
   "mimetype": "text/x-python",
   "name": "python",
   "nbconvert_exporter": "python",
   "pygments_lexer": "ipython3",
   "version": "3.11.0"
  }
 },
 "nbformat": 4,
 "nbformat_minor": 4
}
